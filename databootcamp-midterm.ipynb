{
 "cells": [
  {
   "cell_type": "code",
   "execution_count": null,
   "id": "f6125828",
   "metadata": {},
   "outputs": [],
   "source": [
    "# Overall theme on how sports changed over time in relation to earnings"
   ]
  },
  {
   "cell_type": "code",
   "execution_count": 1,
   "id": "cc3a6b11",
   "metadata": {},
   "outputs": [],
   "source": [
    "import pandas as pd\n",
    "import numpy as np\n",
    "import matplotlib.pyplot as plt\n",
    "from plotnine import *\n",
    "import statsmodels.formula.api as smf"
   ]
  },
  {
   "cell_type": "code",
   "execution_count": 2,
   "id": "f6434d9a",
   "metadata": {},
   "outputs": [
    {
     "data": {
      "text/html": [
       "<div>\n",
       "<style scoped>\n",
       "    .dataframe tbody tr th:only-of-type {\n",
       "        vertical-align: middle;\n",
       "    }\n",
       "\n",
       "    .dataframe tbody tr th {\n",
       "        vertical-align: top;\n",
       "    }\n",
       "\n",
       "    .dataframe thead th {\n",
       "        text-align: right;\n",
       "    }\n",
       "</style>\n",
       "<table border=\"1\" class=\"dataframe\">\n",
       "  <thead>\n",
       "    <tr style=\"text-align: right;\">\n",
       "      <th></th>\n",
       "      <th>s.no</th>\n",
       "      <th>name</th>\n",
       "      <th>nationality</th>\n",
       "      <th>current_rank</th>\n",
       "      <th>previous_year_rank</th>\n",
       "      <th>sport</th>\n",
       "      <th>year</th>\n",
       "      <th>earnings</th>\n",
       "    </tr>\n",
       "  </thead>\n",
       "  <tbody>\n",
       "    <tr>\n",
       "      <th>0</th>\n",
       "      <td>1</td>\n",
       "      <td>Mike Tyson</td>\n",
       "      <td>USA</td>\n",
       "      <td>1</td>\n",
       "      <td>NaN</td>\n",
       "      <td>boxing</td>\n",
       "      <td>1990</td>\n",
       "      <td>28.6</td>\n",
       "    </tr>\n",
       "    <tr>\n",
       "      <th>1</th>\n",
       "      <td>2</td>\n",
       "      <td>Buster Douglas</td>\n",
       "      <td>USA</td>\n",
       "      <td>2</td>\n",
       "      <td>NaN</td>\n",
       "      <td>boxing</td>\n",
       "      <td>1990</td>\n",
       "      <td>26.0</td>\n",
       "    </tr>\n",
       "    <tr>\n",
       "      <th>2</th>\n",
       "      <td>3</td>\n",
       "      <td>Sugar Ray Leonard</td>\n",
       "      <td>USA</td>\n",
       "      <td>3</td>\n",
       "      <td>NaN</td>\n",
       "      <td>boxing</td>\n",
       "      <td>1990</td>\n",
       "      <td>13.0</td>\n",
       "    </tr>\n",
       "    <tr>\n",
       "      <th>3</th>\n",
       "      <td>4</td>\n",
       "      <td>Ayrton Senna</td>\n",
       "      <td>Brazil</td>\n",
       "      <td>4</td>\n",
       "      <td>NaN</td>\n",
       "      <td>nascar</td>\n",
       "      <td>1990</td>\n",
       "      <td>10.0</td>\n",
       "    </tr>\n",
       "    <tr>\n",
       "      <th>4</th>\n",
       "      <td>5</td>\n",
       "      <td>Alain Prost</td>\n",
       "      <td>France</td>\n",
       "      <td>5</td>\n",
       "      <td>NaN</td>\n",
       "      <td>nascar</td>\n",
       "      <td>1990</td>\n",
       "      <td>9.0</td>\n",
       "    </tr>\n",
       "  </tbody>\n",
       "</table>\n",
       "</div>"
      ],
      "text/plain": [
       "   s.no               name nationality  current_rank previous_year_rank  \\\n",
       "0     1         Mike Tyson         USA             1                NaN   \n",
       "1     2     Buster Douglas         USA             2                NaN   \n",
       "2     3  Sugar Ray Leonard         USA             3                NaN   \n",
       "3     4       Ayrton Senna      Brazil             4                NaN   \n",
       "4     5        Alain Prost      France             5                NaN   \n",
       "\n",
       "    sport  year  earnings  \n",
       "0  boxing  1990      28.6  \n",
       "1  boxing  1990      26.0  \n",
       "2  boxing  1990      13.0  \n",
       "3  nascar  1990      10.0  \n",
       "4  nascar  1990       9.0  "
      ]
     },
     "execution_count": 2,
     "metadata": {},
     "output_type": "execute_result"
    }
   ],
   "source": [
    "df=pd.read_csv('Forbes Richest Atheletes (Forbes Richest Athletes 1990-2020).csv')\n",
    "df = df.rename(columns={'earnings ($ million)': 'earnings'})\n",
    "df = df.rename(columns=lambda x: x.replace(' ', '_'))\n",
    "\n",
    "df.loc[df['Sport'].str.contains('auto racing', case=False), 'Sport'] = 'NASCAR'\n",
    "df.loc[df['Sport'].str.contains('f1', case=False), 'Sport'] = 'f1'\n",
    "\n",
    "df.Sport=df.Sport.str.lower().replace('nba','basketball')\n",
    "\n",
    "df.loc[df['Name']=='Deion Sanders','Sport'] = 'baseball'\n",
    "\n",
    "df.columns = df.columns.str.lower()\n",
    "\n",
    "df.head()"
   ]
  },
  {
   "cell_type": "code",
   "execution_count": 3,
   "id": "4260479c",
   "metadata": {},
   "outputs": [
    {
     "name": "stdout",
     "output_type": "stream",
     "text": [
      "    s.no           name nationality  current_rank previous_year_rank  \\\n",
      "51    52     Mike Tyson         USA             2         not ranked   \n",
      "52    53  Deion Sanders         USA             3                 38   \n",
      "53    54   Riddick Bowe         USA             4         not ranked   \n",
      "\n",
      "       sport  year  earnings  \n",
      "51    boxing  1995      40.0  \n",
      "52  baseball  1995      22.5  \n",
      "53    boxing  1995      22.2  \n"
     ]
    }
   ],
   "source": [
    "print(df[51:54])"
   ]
  },
  {
   "cell_type": "code",
   "execution_count": 6,
   "id": "11e0caec",
   "metadata": {},
   "outputs": [
    {
     "data": {
      "text/plain": [
       "array(['boxing', 'nascar', 'golf', 'basketball', 'tennis', 'nfl',\n",
       "       'baseball', 'ice hockey', 'american football / baseball', 'f1',\n",
       "       'hockey', 'american football', 'soccer', 'cycling',\n",
       "       'motorcycle gp', 'mma'], dtype=object)"
      ]
     },
     "execution_count": 6,
     "metadata": {},
     "output_type": "execute_result"
    }
   ],
   "source": [
    "df.sport.unique()"
   ]
  },
  {
   "cell_type": "code",
   "execution_count": null,
   "id": "98934c1c",
   "metadata": {},
   "outputs": [],
   "source": [
    "#--------------------------------------------------------------------------------#"
   ]
  },
  {
   "cell_type": "code",
   "execution_count": 24,
   "id": "018f1c5c",
   "metadata": {},
   "outputs": [
    {
     "data": {
      "text/plain": [
       "array(['USA', 'Argentina', 'Switzerland', 'Portugal', 'Germany'],\n",
       "      dtype=object)"
      ]
     },
     "execution_count": 24,
     "metadata": {},
     "output_type": "execute_result"
    }
   ],
   "source": [
    "df_no1['nationality'].unique()"
   ]
  },
  {
   "cell_type": "code",
   "execution_count": 25,
   "id": "41d04b1e",
   "metadata": {},
   "outputs": [
    {
     "data": {
      "image/png": "[encoded data removed]",
      "text/plain": [
       "<Figure size 640x480 with 1 Axes>"
      ]
     },
     "metadata": {},
     "output_type": "display_data"
    },
    {
     "data": {
      "text/plain": [
       "<ggplot: (8781077460206)>"
      ]
     },
     "execution_count": 25,
     "metadata": {},
     "output_type": "execute_result"
    }
   ],
   "source": [
    "(ggplot(df_no1, mapping=aes(x='year', y='earnings',color='nationality',size='earnings'))+\n",
    "geom_point(alpha = 0.5)+\n",
    "theme_bw()\n",
    ")"
   ]
  },
  {
   "cell_type": "code",
   "execution_count": null,
   "id": "ff29d485",
   "metadata": {},
   "outputs": [],
   "source": [
    "# From this visualization, we can see that the majority of No.1 ranked athletes from 1990 to 2020 are from USA. \n",
    "# According to the dataset, No.1 players are only from 5 countries, as indicated above. "
   ]
  },
  {
   "cell_type": "code",
   "execution_count": null,
   "id": "10fd4342",
   "metadata": {},
   "outputs": [],
   "source": [
    "# In this section, we will perform some data analysis on specific sport in comparison to the dataset"
   ]
  },
  {
   "cell_type": "code",
   "execution_count": 41,
   "id": "63ecba59",
   "metadata": {},
   "outputs": [
    {
     "data": {
      "text/html": [
       "<div>\n",
       "<style scoped>\n",
       "    .dataframe tbody tr th:only-of-type {\n",
       "        vertical-align: middle;\n",
       "    }\n",
       "\n",
       "    .dataframe tbody tr th {\n",
       "        vertical-align: top;\n",
       "    }\n",
       "\n",
       "    .dataframe thead th {\n",
       "        text-align: right;\n",
       "    }\n",
       "</style>\n",
       "<table border=\"1\" class=\"dataframe\">\n",
       "  <thead>\n",
       "    <tr style=\"text-align: right;\">\n",
       "      <th></th>\n",
       "      <th>s.no</th>\n",
       "      <th>name</th>\n",
       "      <th>nationality</th>\n",
       "      <th>current_rank</th>\n",
       "      <th>previous_year_rank</th>\n",
       "      <th>sport</th>\n",
       "      <th>year</th>\n",
       "      <th>earnings</th>\n",
       "    </tr>\n",
       "  </thead>\n",
       "  <tbody>\n",
       "    <tr>\n",
       "      <th>7</th>\n",
       "      <td>8</td>\n",
       "      <td>Michael Jordan</td>\n",
       "      <td>USA</td>\n",
       "      <td>8</td>\n",
       "      <td>NaN</td>\n",
       "      <td>basketball</td>\n",
       "      <td>1990</td>\n",
       "      <td>8.1</td>\n",
       "    </tr>\n",
       "    <tr>\n",
       "      <th>12</th>\n",
       "      <td>13</td>\n",
       "      <td>Michael Jordan</td>\n",
       "      <td>USA</td>\n",
       "      <td>3</td>\n",
       "      <td>8</td>\n",
       "      <td>basketball</td>\n",
       "      <td>1991</td>\n",
       "      <td>16.0</td>\n",
       "    </tr>\n",
       "    <tr>\n",
       "      <th>20</th>\n",
       "      <td>21</td>\n",
       "      <td>Michael Jordan</td>\n",
       "      <td>USA</td>\n",
       "      <td>1</td>\n",
       "      <td>3</td>\n",
       "      <td>basketball</td>\n",
       "      <td>1992</td>\n",
       "      <td>35.9</td>\n",
       "    </tr>\n",
       "    <tr>\n",
       "      <th>30</th>\n",
       "      <td>31</td>\n",
       "      <td>Michael Jordan</td>\n",
       "      <td>USA</td>\n",
       "      <td>1</td>\n",
       "      <td>1</td>\n",
       "      <td>basketball</td>\n",
       "      <td>1993</td>\n",
       "      <td>36.0</td>\n",
       "    </tr>\n",
       "    <tr>\n",
       "      <th>35</th>\n",
       "      <td>36</td>\n",
       "      <td>Shaquille O'Neal</td>\n",
       "      <td>USA</td>\n",
       "      <td>6</td>\n",
       "      <td>&gt;40</td>\n",
       "      <td>basketball</td>\n",
       "      <td>1993</td>\n",
       "      <td>15.2</td>\n",
       "    </tr>\n",
       "  </tbody>\n",
       "</table>\n",
       "</div>"
      ],
      "text/plain": [
       "    s.no              name nationality  current_rank previous_year_rank  \\\n",
       "7      8    Michael Jordan         USA             8                NaN   \n",
       "12    13    Michael Jordan         USA             3                  8   \n",
       "20    21    Michael Jordan         USA             1                  3   \n",
       "30    31    Michael Jordan         USA             1                  1   \n",
       "35    36  Shaquille O'Neal         USA             6                >40   \n",
       "\n",
       "         sport  year  earnings  \n",
       "7   basketball  1990       8.1  \n",
       "12  basketball  1991      16.0  \n",
       "20  basketball  1992      35.9  \n",
       "30  basketball  1993      36.0  \n",
       "35  basketball  1993      15.2  "
      ]
     },
     "execution_count": 41,
     "metadata": {},
     "output_type": "execute_result"
    }
   ],
   "source": [
    "df_basketball = df[df[\"sport\"] == \"basketball\"]\n",
    "df_basketball.head()"
   ]
  },
  {
   "cell_type": "code",
   "execution_count": 42,
   "id": "b66de876",
   "metadata": {},
   "outputs": [
    {
     "data": {
      "text/html": [
       "<div>\n",
       "<style scoped>\n",
       "    .dataframe tbody tr th:only-of-type {\n",
       "        vertical-align: middle;\n",
       "    }\n",
       "\n",
       "    .dataframe tbody tr th {\n",
       "        vertical-align: top;\n",
       "    }\n",
       "\n",
       "    .dataframe thead th {\n",
       "        text-align: right;\n",
       "    }\n",
       "</style>\n",
       "<table border=\"1\" class=\"dataframe\">\n",
       "  <thead>\n",
       "    <tr style=\"text-align: right;\">\n",
       "      <th></th>\n",
       "      <th>s.no</th>\n",
       "      <th>current_rank</th>\n",
       "      <th>year</th>\n",
       "      <th>earnings</th>\n",
       "    </tr>\n",
       "  </thead>\n",
       "  <tbody>\n",
       "    <tr>\n",
       "      <th>count</th>\n",
       "      <td>82.000000</td>\n",
       "      <td>82.000000</td>\n",
       "      <td>82.000000</td>\n",
       "      <td>82.000000</td>\n",
       "    </tr>\n",
       "    <tr>\n",
       "      <th>mean</th>\n",
       "      <td>157.975610</td>\n",
       "      <td>5.573171</td>\n",
       "      <td>2005.853659</td>\n",
       "      <td>41.869512</td>\n",
       "    </tr>\n",
       "    <tr>\n",
       "      <th>std</th>\n",
       "      <td>80.728164</td>\n",
       "      <td>2.624813</td>\n",
       "      <td>8.341658</td>\n",
       "      <td>20.200071</td>\n",
       "    </tr>\n",
       "    <tr>\n",
       "      <th>min</th>\n",
       "      <td>8.000000</td>\n",
       "      <td>1.000000</td>\n",
       "      <td>1990.000000</td>\n",
       "      <td>8.100000</td>\n",
       "    </tr>\n",
       "    <tr>\n",
       "      <th>25%</th>\n",
       "      <td>97.750000</td>\n",
       "      <td>3.250000</td>\n",
       "      <td>1999.000000</td>\n",
       "      <td>26.025000</td>\n",
       "    </tr>\n",
       "    <tr>\n",
       "      <th>50%</th>\n",
       "      <td>148.000000</td>\n",
       "      <td>6.000000</td>\n",
       "      <td>2005.000000</td>\n",
       "      <td>36.000000</td>\n",
       "    </tr>\n",
       "    <tr>\n",
       "      <th>75%</th>\n",
       "      <td>224.750000</td>\n",
       "      <td>7.750000</td>\n",
       "      <td>2013.000000</td>\n",
       "      <td>53.000000</td>\n",
       "    </tr>\n",
       "    <tr>\n",
       "      <th>max</th>\n",
       "      <td>298.000000</td>\n",
       "      <td>10.000000</td>\n",
       "      <td>2020.000000</td>\n",
       "      <td>89.000000</td>\n",
       "    </tr>\n",
       "  </tbody>\n",
       "</table>\n",
       "</div>"
      ],
      "text/plain": [
       "             s.no  current_rank         year   earnings\n",
       "count   82.000000     82.000000    82.000000  82.000000\n",
       "mean   157.975610      5.573171  2005.853659  41.869512\n",
       "std     80.728164      2.624813     8.341658  20.200071\n",
       "min      8.000000      1.000000  1990.000000   8.100000\n",
       "25%     97.750000      3.250000  1999.000000  26.025000\n",
       "50%    148.000000      6.000000  2005.000000  36.000000\n",
       "75%    224.750000      7.750000  2013.000000  53.000000\n",
       "max    298.000000     10.000000  2020.000000  89.000000"
      ]
     },
     "execution_count": 42,
     "metadata": {},
     "output_type": "execute_result"
    }
   ],
   "source": [
    "df_basketball.describe()"
   ]
  },
  {
   "cell_type": "code",
   "execution_count": 43,
   "id": "095e75bf",
   "metadata": {},
   "outputs": [
    {
     "data": {
      "text/plain": [
       "array(['Michael Jordan', \"Shaquille O'Neal\", \"Shaq O'Neal\",\n",
       "       'Dennis Rodman', 'Patrick Ewing', 'Grant Hill', 'Kevin Garnett',\n",
       "       'Kobe Bryant', 'LeBron James', 'Kevin Durant', 'Stephen Curry',\n",
       "       'James Harden'], dtype=object)"
      ]
     },
     "execution_count": 43,
     "metadata": {},
     "output_type": "execute_result"
    }
   ],
   "source": [
    "df_basketball['name'].unique()"
   ]
  },
  {
   "cell_type": "code",
   "execution_count": 50,
   "id": "5332d2ac",
   "metadata": {},
   "outputs": [
    {
     "name": "stdout",
     "output_type": "stream",
     "text": [
      "                name  earnings\n",
      "0      Dennis Rodman      12.9\n",
      "1         Grant Hill     137.1\n",
      "2       James Harden      46.6\n",
      "3       Kevin Durant     300.3\n",
      "4      Kevin Garnett     101.7\n",
      "5        Kobe Bryant     601.1\n",
      "6       LeBron James     844.8\n",
      "7     Michael Jordan     738.8\n",
      "8      Patrick Ewing      31.2\n",
      "9        Shaq O'Neal     102.2\n",
      "10  Shaquille O'Neal     238.2\n",
      "11     Stephen Curry     278.4\n"
     ]
    }
   ],
   "source": [
    "basketball_earnings = df_basketball.groupby(\"name\")[\"earnings\"].sum().reset_index()\n",
    "print(basketball_earnings)"
   ]
  },
  {
   "cell_type": "code",
   "execution_count": 61,
   "id": "04afa96c",
   "metadata": {},
   "outputs": [
    {
     "data": {
      "image/png": "[encoded data removed]",
      "text/plain": [
       "<Figure size 640x480 with 1 Axes>"
      ]
     },
     "metadata": {},
     "output_type": "display_data"
    }
   ],
   "source": [
    "colors = [\"#A52A2A\", \"#8A2BE2\", \"#6495ED\", \"#D2691E\", \"#DEB887\",\n",
    "          \"#A9A9A9\", \"#006400\", \"#2F4F4F\", \"#FFD700\", \"#FF69B4\", \"#DDA0DD\"]\n",
    "\n",
    "labels = [f\"{name}: ${earnings:.2f} billion\" \n",
    "          for name, earnings in zip(basketball_earnings[\"name\"], \n",
    "                                    basketball_earnings[\"earnings\"])]\n",
    "plt.pie(basketball_earnings[\"earnings\"], labels=labels,\n",
    "       colors=colors, textprops={\"fontsize\": 8})\n",
    "plt.title(\"Total Earnings for Basketball Players\")\n",
    "plt.show()"
   ]
  },
  {
   "cell_type": "code",
   "execution_count": null,
   "id": "ad27d87e",
   "metadata": {},
   "outputs": [],
   "source": []
  }
 ],
 "metadata": {
  "kernelspec": {
   "display_name": "Python 3 (ipykernel)",
   "language": "python",
   "name": "python3"
  },
  "language_info": {
   "codemirror_mode": {
    "name": "ipython",
    "version": 3
   },
   "file_extension": ".py",
   "mimetype": "text/x-python",
   "name": "python",
   "nbconvert_exporter": "python",
   "pygments_lexer": "ipython3",
   "version": "3.9.7"
  }
 },
 "nbformat": 4,
 "nbformat_minor": 5
}
