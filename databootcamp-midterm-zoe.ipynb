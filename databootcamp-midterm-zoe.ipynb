{
 "cells": [
  {
   "cell_type": "code",
   "execution_count": 1,
   "id": "f56d1eed",
   "metadata": {},
   "outputs": [],
   "source": [
    "import pandas as pd\n",
    "import numpy as np\n",
    "import matplotlib.pyplot as plt\n",
    "from plotnine import *\n",
    "import statsmodels.formula.api as smf"
   ]
  },
  {
   "cell_type": "code",
   "execution_count": 2,
   "id": "0f2d09b6",
   "metadata": {},
   "outputs": [
    {
     "data": {
      "text/html": [
       "<div>\n",
       "<style scoped>\n",
       "    .dataframe tbody tr th:only-of-type {\n",
       "        vertical-align: middle;\n",
       "    }\n",
       "\n",
       "    .dataframe tbody tr th {\n",
       "        vertical-align: top;\n",
       "    }\n",
       "\n",
       "    .dataframe thead th {\n",
       "        text-align: right;\n",
       "    }\n",
       "</style>\n",
       "<table border=\"1\" class=\"dataframe\">\n",
       "  <thead>\n",
       "    <tr style=\"text-align: right;\">\n",
       "      <th></th>\n",
       "      <th>s.no</th>\n",
       "      <th>name</th>\n",
       "      <th>nationality</th>\n",
       "      <th>current_rank</th>\n",
       "      <th>previous_year_rank</th>\n",
       "      <th>sport</th>\n",
       "      <th>year</th>\n",
       "      <th>earnings</th>\n",
       "    </tr>\n",
       "  </thead>\n",
       "  <tbody>\n",
       "    <tr>\n",
       "      <th>0</th>\n",
       "      <td>1</td>\n",
       "      <td>Mike Tyson</td>\n",
       "      <td>USA</td>\n",
       "      <td>1</td>\n",
       "      <td>NaN</td>\n",
       "      <td>boxing</td>\n",
       "      <td>1990</td>\n",
       "      <td>28.6</td>\n",
       "    </tr>\n",
       "    <tr>\n",
       "      <th>1</th>\n",
       "      <td>2</td>\n",
       "      <td>Buster Douglas</td>\n",
       "      <td>USA</td>\n",
       "      <td>2</td>\n",
       "      <td>NaN</td>\n",
       "      <td>boxing</td>\n",
       "      <td>1990</td>\n",
       "      <td>26.0</td>\n",
       "    </tr>\n",
       "    <tr>\n",
       "      <th>2</th>\n",
       "      <td>3</td>\n",
       "      <td>Sugar Ray Leonard</td>\n",
       "      <td>USA</td>\n",
       "      <td>3</td>\n",
       "      <td>NaN</td>\n",
       "      <td>boxing</td>\n",
       "      <td>1990</td>\n",
       "      <td>13.0</td>\n",
       "    </tr>\n",
       "    <tr>\n",
       "      <th>3</th>\n",
       "      <td>4</td>\n",
       "      <td>Ayrton Senna</td>\n",
       "      <td>Brazil</td>\n",
       "      <td>4</td>\n",
       "      <td>NaN</td>\n",
       "      <td>nascar</td>\n",
       "      <td>1990</td>\n",
       "      <td>10.0</td>\n",
       "    </tr>\n",
       "    <tr>\n",
       "      <th>4</th>\n",
       "      <td>5</td>\n",
       "      <td>Alain Prost</td>\n",
       "      <td>France</td>\n",
       "      <td>5</td>\n",
       "      <td>NaN</td>\n",
       "      <td>nascar</td>\n",
       "      <td>1990</td>\n",
       "      <td>9.0</td>\n",
       "    </tr>\n",
       "  </tbody>\n",
       "</table>\n",
       "</div>"
      ],
      "text/plain": [
       "   s.no               name nationality  current_rank previous_year_rank  \\\n",
       "0     1         Mike Tyson         USA             1                NaN   \n",
       "1     2     Buster Douglas         USA             2                NaN   \n",
       "2     3  Sugar Ray Leonard         USA             3                NaN   \n",
       "3     4       Ayrton Senna      Brazil             4                NaN   \n",
       "4     5        Alain Prost      France             5                NaN   \n",
       "\n",
       "    sport  year  earnings  \n",
       "0  boxing  1990      28.6  \n",
       "1  boxing  1990      26.0  \n",
       "2  boxing  1990      13.0  \n",
       "3  nascar  1990      10.0  \n",
       "4  nascar  1990       9.0  "
      ]
     },
     "execution_count": 2,
     "metadata": {},
     "output_type": "execute_result"
    }
   ],
   "source": [
    "df=pd.read_csv('Forbes Richest Atheletes (Forbes Richest Athletes 1990-2020).csv')\n",
    "df = df.rename(columns={'earnings ($ million)': 'earnings'})\n",
    "df = df.rename(columns=lambda x: x.replace(' ', '_'))\n",
    "\n",
    "df.loc[df['Sport'].str.contains('auto racing', case=False), 'Sport'] = 'NASCAR'\n",
    "df.loc[df['Sport'].str.contains('f1', case=False), 'Sport'] = 'f1'\n",
    "\n",
    "df.Sport=df.Sport.str.lower().replace('nba','basketball')\n",
    "\n",
    "df.loc[df['Name']=='Deion Sanders','Sport'] = 'baseball'\n",
    "\n",
    "df.columns = df.columns.str.lower()\n",
    "\n",
    "df.head()"
   ]
  },
  {
   "cell_type": "code",
   "execution_count": null,
   "id": "9b253202",
   "metadata": {},
   "outputs": [],
   "source": [
    "# Section: Earning over time\n",
    "# The first hypothesis is to test the average earning of top 10 ranked players increases over time"
   ]
  },
  {
   "cell_type": "code",
   "execution_count": 3,
   "id": "e1811e7b",
   "metadata": {},
   "outputs": [
    {
     "data": {
      "text/html": [
       "<div>\n",
       "<style scoped>\n",
       "    .dataframe tbody tr th:only-of-type {\n",
       "        vertical-align: middle;\n",
       "    }\n",
       "\n",
       "    .dataframe tbody tr th {\n",
       "        vertical-align: top;\n",
       "    }\n",
       "\n",
       "    .dataframe thead th {\n",
       "        text-align: right;\n",
       "    }\n",
       "</style>\n",
       "<table border=\"1\" class=\"dataframe\">\n",
       "  <thead>\n",
       "    <tr style=\"text-align: right;\">\n",
       "      <th></th>\n",
       "      <th>year</th>\n",
       "      <th>avg_earnings</th>\n",
       "    </tr>\n",
       "  </thead>\n",
       "  <tbody>\n",
       "    <tr>\n",
       "      <th>0</th>\n",
       "      <td>1990</td>\n",
       "      <td>12.80</td>\n",
       "    </tr>\n",
       "    <tr>\n",
       "      <th>1</th>\n",
       "      <td>1991</td>\n",
       "      <td>18.35</td>\n",
       "    </tr>\n",
       "    <tr>\n",
       "      <th>2</th>\n",
       "      <td>1992</td>\n",
       "      <td>15.87</td>\n",
       "    </tr>\n",
       "    <tr>\n",
       "      <th>3</th>\n",
       "      <td>1993</td>\n",
       "      <td>17.83</td>\n",
       "    </tr>\n",
       "    <tr>\n",
       "      <th>4</th>\n",
       "      <td>1994</td>\n",
       "      <td>14.89</td>\n",
       "    </tr>\n",
       "  </tbody>\n",
       "</table>\n",
       "</div>"
      ],
      "text/plain": [
       "   year  avg_earnings\n",
       "0  1990         12.80\n",
       "1  1991         18.35\n",
       "2  1992         15.87\n",
       "3  1993         17.83\n",
       "4  1994         14.89"
      ]
     },
     "execution_count": 3,
     "metadata": {},
     "output_type": "execute_result"
    }
   ],
   "source": [
    "#creating a dataframe on average earnings\n",
    "avg_earnings_by_year = df.groupby(\"year\")[\"earnings\"].mean()\n",
    "df_avg_earnings = pd.DataFrame(avg_earnings_by_year).reset_index()\n",
    "df_avg_earnings = df_avg_earnings.rename(columns={'earnings': 'avg_earnings'})\n",
    "df_avg_earnings.head()"
   ]
  },
  {
   "cell_type": "code",
   "execution_count": 4,
   "id": "7356bbb6",
   "metadata": {},
   "outputs": [
    {
     "data": {
      "image/png": "[encoded data removed]",
      "text/plain": [
       "<Figure size 640x480 with 1 Axes>"
      ]
     },
     "metadata": {},
     "output_type": "display_data"
    },
    {
     "data": {
      "text/plain": [
       "<ggplot: (8789180813776)>"
      ]
     },
     "execution_count": 4,
     "metadata": {},
     "output_type": "execute_result"
    }
   ],
   "source": [
    "#plotting a line graph to see the general trend of average earning over time\n",
    "(ggplot(df_avg_earnings, aes(x='year', y='avg_earnings'))\n",
    " + geom_line(color='steelblue')\n",
    " + labs(title='Average earnings of top 10 athletes per year', x='Year', y='Average Earnings (in Millions of USD)')\n",
    " + theme_bw()\n",
    " + theme(plot_title=element_text(weight='bold', size=14),\n",
    "         axis_text=element_text(size=12),\n",
    "         axis_title=element_text(size=14),\n",
    "         panel_border=element_blank(),\n",
    "         axis_line=element_line(size=.8)))"
   ]
  },
  {
   "cell_type": "code",
   "execution_count": 5,
   "id": "798ef559",
   "metadata": {},
   "outputs": [
    {
     "data": {
      "text/html": [
       "<table class=\"simpletable\">\n",
       "<caption>OLS Regression Results</caption>\n",
       "<tr>\n",
       "  <th>Dep. Variable:</th>      <td>avg_earnings</td>   <th>  R-squared:         </th> <td>   0.838</td>\n",
       "</tr>\n",
       "<tr>\n",
       "  <th>Model:</th>                   <td>OLS</td>       <th>  Adj. R-squared:    </th> <td>   0.833</td>\n",
       "</tr>\n",
       "<tr>\n",
       "  <th>Method:</th>             <td>Least Squares</td>  <th>  F-statistic:       </th> <td>   145.4</td>\n",
       "</tr>\n",
       "<tr>\n",
       "  <th>Date:</th>             <td>Wed, 29 Mar 2023</td> <th>  Prob (F-statistic):</th> <td>1.33e-12</td>\n",
       "</tr>\n",
       "<tr>\n",
       "  <th>Time:</th>                 <td>14:24:09</td>     <th>  Log-Likelihood:    </th> <td> -110.47</td>\n",
       "</tr>\n",
       "<tr>\n",
       "  <th>No. Observations:</th>      <td>    30</td>      <th>  AIC:               </th> <td>   224.9</td>\n",
       "</tr>\n",
       "<tr>\n",
       "  <th>Df Residuals:</th>          <td>    28</td>      <th>  BIC:               </th> <td>   227.7</td>\n",
       "</tr>\n",
       "<tr>\n",
       "  <th>Df Model:</th>              <td>     1</td>      <th>                     </th>     <td> </td>   \n",
       "</tr>\n",
       "<tr>\n",
       "  <th>Covariance Type:</th>      <td>nonrobust</td>    <th>                     </th>     <td> </td>   \n",
       "</tr>\n",
       "</table>\n",
       "<table class=\"simpletable\">\n",
       "<tr>\n",
       "      <td></td>         <th>coef</th>     <th>std err</th>      <th>t</th>      <th>P>|t|</th>  <th>[0.025</th>    <th>0.975]</th>  \n",
       "</tr>\n",
       "<tr>\n",
       "  <th>Intercept</th> <td>-4802.6131</td> <td>  402.125</td> <td>  -11.943</td> <td> 0.000</td> <td>-5626.329</td> <td>-3978.898</td>\n",
       "</tr>\n",
       "<tr>\n",
       "  <th>year</th>      <td>    2.4179</td> <td>    0.201</td> <td>   12.057</td> <td> 0.000</td> <td>    2.007</td> <td>    2.829</td>\n",
       "</tr>\n",
       "</table>\n",
       "<table class=\"simpletable\">\n",
       "<tr>\n",
       "  <th>Omnibus:</th>       <td>14.925</td> <th>  Durbin-Watson:     </th> <td>   1.647</td>\n",
       "</tr>\n",
       "<tr>\n",
       "  <th>Prob(Omnibus):</th> <td> 0.001</td> <th>  Jarque-Bera (JB):  </th> <td>  15.813</td>\n",
       "</tr>\n",
       "<tr>\n",
       "  <th>Skew:</th>          <td> 1.420</td> <th>  Prob(JB):          </th> <td>0.000368</td>\n",
       "</tr>\n",
       "<tr>\n",
       "  <th>Kurtosis:</th>      <td> 5.140</td> <th>  Cond. No.          </th> <td>4.44e+05</td>\n",
       "</tr>\n",
       "</table><br/><br/>Notes:<br/>[1] Standard Errors assume that the covariance matrix of the errors is correctly specified.<br/>[2] The condition number is large, 4.44e+05. This might indicate that there are<br/>strong multicollinearity or other numerical problems."
      ],
      "text/plain": [
       "<class 'statsmodels.iolib.summary.Summary'>\n",
       "\"\"\"\n",
       "                            OLS Regression Results                            \n",
       "==============================================================================\n",
       "Dep. Variable:           avg_earnings   R-squared:                       0.838\n",
       "Model:                            OLS   Adj. R-squared:                  0.833\n",
       "Method:                 Least Squares   F-statistic:                     145.4\n",
       "Date:                Wed, 29 Mar 2023   Prob (F-statistic):           1.33e-12\n",
       "Time:                        14:24:09   Log-Likelihood:                -110.47\n",
       "No. Observations:                  30   AIC:                             224.9\n",
       "Df Residuals:                      28   BIC:                             227.7\n",
       "Df Model:                           1                                         \n",
       "Covariance Type:            nonrobust                                         \n",
       "==============================================================================\n",
       "                 coef    std err          t      P>|t|      [0.025      0.975]\n",
       "------------------------------------------------------------------------------\n",
       "Intercept  -4802.6131    402.125    -11.943      0.000   -5626.329   -3978.898\n",
       "year           2.4179      0.201     12.057      0.000       2.007       2.829\n",
       "==============================================================================\n",
       "Omnibus:                       14.925   Durbin-Watson:                   1.647\n",
       "Prob(Omnibus):                  0.001   Jarque-Bera (JB):               15.813\n",
       "Skew:                           1.420   Prob(JB):                     0.000368\n",
       "Kurtosis:                       5.140   Cond. No.                     4.44e+05\n",
       "==============================================================================\n",
       "\n",
       "Notes:\n",
       "[1] Standard Errors assume that the covariance matrix of the errors is correctly specified.\n",
       "[2] The condition number is large, 4.44e+05. This might indicate that there are\n",
       "strong multicollinearity or other numerical problems.\n",
       "\"\"\""
      ]
     },
     "execution_count": 5,
     "metadata": {},
     "output_type": "execute_result"
    }
   ],
   "source": [
    "reg1_avg = smf.ols('avg_earnings~year',df_avg_earnings).fit() \n",
    "reg1_avg.summary()"
   ]
  },
  {
   "cell_type": "code",
   "execution_count": null,
   "id": "6397905f",
   "metadata": {},
   "outputs": [],
   "source": [
    "# Regression analysis:\n",
    "# The coefficient for the year variable is 2.4179, indicating that for each one-year increase in the year, \n",
    "# the average earnings of the top 10 ranked athlete increase by an average of $2.4179 million, holding all other variables constant.\n",
    "\n",
    "# R-squared is a measure of how closely the data in a regression line fit the data in the sample\n",
    "# In this case, 83.8% of the dependent variable (earnings) is explained by the independent variable (year)\n",
    "\n",
    "# p-value < 0.05, suggesting a significant relationship.\n",
    "# This means that there is a positive relationship between year and average earnings of top 10 athletes, \n",
    "# indicating that the earning of highest-paid top 10 athletes tends to increase as time goes on\n",
    "# Thus, we should not reject the first hypothesis"
   ]
  },
  {
   "cell_type": "code",
   "execution_count": 6,
   "id": "4c421bde",
   "metadata": {},
   "outputs": [
    {
     "data": {
      "image/png": "[encoded data removed]",
      "text/plain": [
       "<Figure size 640x480 with 1 Axes>"
      ]
     },
     "metadata": {},
     "output_type": "display_data"
    },
    {
     "data": {
      "text/plain": [
       "<ggplot: (8789231890439)>"
      ]
     },
     "execution_count": 6,
     "metadata": {},
     "output_type": "execute_result"
    }
   ],
   "source": [
    "# We can explore the relationship on a scatterplot with the regression line\n",
    "df_avg_earnings['reg1_pred_avg_earning']=reg1_avg.predict() \n",
    "\n",
    "(ggplot(df_avg_earnings, aes(x='year', y='avg_earnings'))+\n",
    "geom_point(color='steelblue')+\n",
    "geom_line(aes(x='year', y='reg1_pred_avg_earning'), color='darkorange')+ theme_bw()\n",
    ")"
   ]
  },
  {
   "cell_type": "code",
   "execution_count": 7,
   "id": "05d19830",
   "metadata": {},
   "outputs": [
    {
     "data": {
      "image/png": "[encoded data removed]",
      "text/plain": [
       "<Figure size 640x480 with 1 Axes>"
      ]
     },
     "metadata": {},
     "output_type": "display_data"
    },
    {
     "data": {
      "text/plain": [
       "<ggplot: (8789231886870)>"
      ]
     },
     "execution_count": 7,
     "metadata": {},
     "output_type": "execute_result"
    }
   ],
   "source": [
    "# We can identify 3 outliers from the box plot below\n",
    "(ggplot(df_avg_earnings, aes(x='year', y='avg_earnings')) +\n",
    "        geom_boxplot()+theme_bw()\n",
    ")"
   ]
  },
  {
   "cell_type": "code",
   "execution_count": 8,
   "id": "55905dd2",
   "metadata": {},
   "outputs": [
    {
     "name": "stdout",
     "output_type": "stream",
     "text": [
      "year                     2018.000000\n",
      "avg_earnings              105.940000\n",
      "reg1_pred_avg_earning      76.670187\n",
      "Name: 27, dtype: float64\n",
      "year                     2015.000000\n",
      "avg_earnings               95.030000\n",
      "reg1_pred_avg_earning      69.416545\n",
      "Name: 24, dtype: float64\n",
      "year                     2019.000000\n",
      "avg_earnings               94.140000\n",
      "reg1_pred_avg_earning      79.088067\n",
      "Name: 28, dtype: float64\n"
     ]
    }
   ],
   "source": [
    "#identifying the three outliers\n",
    "df_avg_earnings.sort_values(by='avg_earnings', inplace=True, ascending=False)\n",
    "print(df_avg_earnings.iloc[0])\n",
    "print(df_avg_earnings.iloc[1])\n",
    "print(df_avg_earnings.iloc[2])"
   ]
  },
  {
   "cell_type": "code",
   "execution_count": null,
   "id": "dac6484e",
   "metadata": {},
   "outputs": [],
   "source": [
    "# The second hypothesis to test the earning of highest-paid athletes increases as time goes on"
   ]
  },
  {
   "cell_type": "code",
   "execution_count": 9,
   "id": "83de2f97",
   "metadata": {},
   "outputs": [
    {
     "data": {
      "text/html": [
       "<div>\n",
       "<style scoped>\n",
       "    .dataframe tbody tr th:only-of-type {\n",
       "        vertical-align: middle;\n",
       "    }\n",
       "\n",
       "    .dataframe tbody tr th {\n",
       "        vertical-align: top;\n",
       "    }\n",
       "\n",
       "    .dataframe thead th {\n",
       "        text-align: right;\n",
       "    }\n",
       "</style>\n",
       "<table border=\"1\" class=\"dataframe\">\n",
       "  <thead>\n",
       "    <tr style=\"text-align: right;\">\n",
       "      <th></th>\n",
       "      <th>s.no</th>\n",
       "      <th>name</th>\n",
       "      <th>nationality</th>\n",
       "      <th>current_rank</th>\n",
       "      <th>previous_year_rank</th>\n",
       "      <th>sport</th>\n",
       "      <th>year</th>\n",
       "      <th>earnings</th>\n",
       "    </tr>\n",
       "  </thead>\n",
       "  <tbody>\n",
       "    <tr>\n",
       "      <th>0</th>\n",
       "      <td>1</td>\n",
       "      <td>Mike Tyson</td>\n",
       "      <td>USA</td>\n",
       "      <td>1</td>\n",
       "      <td>NaN</td>\n",
       "      <td>boxing</td>\n",
       "      <td>1990</td>\n",
       "      <td>28.6</td>\n",
       "    </tr>\n",
       "    <tr>\n",
       "      <th>10</th>\n",
       "      <td>11</td>\n",
       "      <td>Evander Holyfield</td>\n",
       "      <td>USA</td>\n",
       "      <td>1</td>\n",
       "      <td>8</td>\n",
       "      <td>boxing</td>\n",
       "      <td>1991</td>\n",
       "      <td>60.5</td>\n",
       "    </tr>\n",
       "    <tr>\n",
       "      <th>20</th>\n",
       "      <td>21</td>\n",
       "      <td>Michael Jordan</td>\n",
       "      <td>USA</td>\n",
       "      <td>1</td>\n",
       "      <td>3</td>\n",
       "      <td>basketball</td>\n",
       "      <td>1992</td>\n",
       "      <td>35.9</td>\n",
       "    </tr>\n",
       "    <tr>\n",
       "      <th>30</th>\n",
       "      <td>31</td>\n",
       "      <td>Michael Jordan</td>\n",
       "      <td>USA</td>\n",
       "      <td>1</td>\n",
       "      <td>1</td>\n",
       "      <td>basketball</td>\n",
       "      <td>1993</td>\n",
       "      <td>36.0</td>\n",
       "    </tr>\n",
       "    <tr>\n",
       "      <th>40</th>\n",
       "      <td>41</td>\n",
       "      <td>Michael Jordan</td>\n",
       "      <td>USA</td>\n",
       "      <td>1</td>\n",
       "      <td>1</td>\n",
       "      <td>basketball</td>\n",
       "      <td>1994</td>\n",
       "      <td>30.0</td>\n",
       "    </tr>\n",
       "  </tbody>\n",
       "</table>\n",
       "</div>"
      ],
      "text/plain": [
       "    s.no               name nationality  current_rank previous_year_rank  \\\n",
       "0      1         Mike Tyson         USA             1                NaN   \n",
       "10    11  Evander Holyfield         USA             1                  8   \n",
       "20    21     Michael Jordan         USA             1                  3   \n",
       "30    31     Michael Jordan         USA             1                  1   \n",
       "40    41     Michael Jordan         USA             1                  1   \n",
       "\n",
       "         sport  year  earnings  \n",
       "0       boxing  1990      28.6  \n",
       "10      boxing  1991      60.5  \n",
       "20  basketball  1992      35.9  \n",
       "30  basketball  1993      36.0  \n",
       "40  basketball  1994      30.0  "
      ]
     },
     "execution_count": 9,
     "metadata": {},
     "output_type": "execute_result"
    }
   ],
   "source": [
    "# Creating a dataframe with athletes only ranked top 1\n",
    "df_no1 = df[(df.current_rank == 1)]\n",
    "df_no1.head()"
   ]
  },
  {
   "cell_type": "code",
   "execution_count": 10,
   "id": "a560f3c3",
   "metadata": {},
   "outputs": [
    {
     "data": {
      "text/html": [
       "<div>\n",
       "<style scoped>\n",
       "    .dataframe tbody tr th:only-of-type {\n",
       "        vertical-align: middle;\n",
       "    }\n",
       "\n",
       "    .dataframe tbody tr th {\n",
       "        vertical-align: top;\n",
       "    }\n",
       "\n",
       "    .dataframe thead th {\n",
       "        text-align: right;\n",
       "    }\n",
       "</style>\n",
       "<table border=\"1\" class=\"dataframe\">\n",
       "  <thead>\n",
       "    <tr style=\"text-align: right;\">\n",
       "      <th></th>\n",
       "      <th>s.no</th>\n",
       "      <th>current_rank</th>\n",
       "      <th>year</th>\n",
       "      <th>earnings</th>\n",
       "    </tr>\n",
       "  </thead>\n",
       "  <tbody>\n",
       "    <tr>\n",
       "      <th>count</th>\n",
       "      <td>30.00000</td>\n",
       "      <td>30.0</td>\n",
       "      <td>30.000000</td>\n",
       "      <td>30.000000</td>\n",
       "    </tr>\n",
       "    <tr>\n",
       "      <th>mean</th>\n",
       "      <td>146.60000</td>\n",
       "      <td>1.0</td>\n",
       "      <td>2005.133333</td>\n",
       "      <td>91.396667</td>\n",
       "    </tr>\n",
       "    <tr>\n",
       "      <th>std</th>\n",
       "      <td>88.45751</td>\n",
       "      <td>0.0</td>\n",
       "      <td>9.216677</td>\n",
       "      <td>60.464293</td>\n",
       "    </tr>\n",
       "    <tr>\n",
       "      <th>min</th>\n",
       "      <td>1.00000</td>\n",
       "      <td>1.0</td>\n",
       "      <td>1990.000000</td>\n",
       "      <td>28.600000</td>\n",
       "    </tr>\n",
       "    <tr>\n",
       "      <th>25%</th>\n",
       "      <td>73.50000</td>\n",
       "      <td>1.0</td>\n",
       "      <td>1997.250000</td>\n",
       "      <td>62.625000</td>\n",
       "    </tr>\n",
       "    <tr>\n",
       "      <th>50%</th>\n",
       "      <td>147.00000</td>\n",
       "      <td>1.0</td>\n",
       "      <td>2005.500000</td>\n",
       "      <td>79.300000</td>\n",
       "    </tr>\n",
       "    <tr>\n",
       "      <th>75%</th>\n",
       "      <td>219.50000</td>\n",
       "      <td>1.0</td>\n",
       "      <td>2012.750000</td>\n",
       "      <td>103.750000</td>\n",
       "    </tr>\n",
       "    <tr>\n",
       "      <th>max</th>\n",
       "      <td>292.00000</td>\n",
       "      <td>1.0</td>\n",
       "      <td>2020.000000</td>\n",
       "      <td>300.000000</td>\n",
       "    </tr>\n",
       "  </tbody>\n",
       "</table>\n",
       "</div>"
      ],
      "text/plain": [
       "            s.no  current_rank         year    earnings\n",
       "count   30.00000          30.0    30.000000   30.000000\n",
       "mean   146.60000           1.0  2005.133333   91.396667\n",
       "std     88.45751           0.0     9.216677   60.464293\n",
       "min      1.00000           1.0  1990.000000   28.600000\n",
       "25%     73.50000           1.0  1997.250000   62.625000\n",
       "50%    147.00000           1.0  2005.500000   79.300000\n",
       "75%    219.50000           1.0  2012.750000  103.750000\n",
       "max    292.00000           1.0  2020.000000  300.000000"
      ]
     },
     "execution_count": 10,
     "metadata": {},
     "output_type": "execute_result"
    }
   ],
   "source": [
    "df_no1.describe()"
   ]
  },
  {
   "cell_type": "code",
   "execution_count": 11,
   "id": "0438e534",
   "metadata": {},
   "outputs": [
    {
     "data": {
      "image/png": "[encoded data removed]",
      "text/plain": [
       "<Figure size 640x480 with 1 Axes>"
      ]
     },
     "metadata": {},
     "output_type": "display_data"
    },
    {
     "data": {
      "text/plain": [
       "<ggplot: (8789232014945)>"
      ]
     },
     "execution_count": 11,
     "metadata": {},
     "output_type": "execute_result"
    }
   ],
   "source": [
    "# Creating a line graph to see the general trend\n",
    "(ggplot(df_no1, aes(x='year', y='earnings'))\n",
    " + geom_line(color='steelblue')\n",
    " + labs(title='Earnings of Athletes with Number 1 Rank', x='Year', y='Earnings (in Millions of USD)')\n",
    " + theme_bw()\n",
    " + theme(plot_title=element_text(weight='bold', size=14),\n",
    "         axis_text=element_text(size=12),\n",
    "         axis_title=element_text(size=14),\n",
    "         panel_border=element_blank(),\n",
    "         axis_line=element_line(size=.8)))"
   ]
  },
  {
   "cell_type": "code",
   "execution_count": 12,
   "id": "5051b614",
   "metadata": {},
   "outputs": [
    {
     "data": {
      "text/html": [
       "<table class=\"simpletable\">\n",
       "<caption>OLS Regression Results</caption>\n",
       "<tr>\n",
       "  <th>Dep. Variable:</th>        <td>earnings</td>     <th>  R-squared:         </th> <td>   0.402</td>\n",
       "</tr>\n",
       "<tr>\n",
       "  <th>Model:</th>                   <td>OLS</td>       <th>  Adj. R-squared:    </th> <td>   0.381</td>\n",
       "</tr>\n",
       "<tr>\n",
       "  <th>Method:</th>             <td>Least Squares</td>  <th>  F-statistic:       </th> <td>   18.84</td>\n",
       "</tr>\n",
       "<tr>\n",
       "  <th>Date:</th>             <td>Wed, 29 Mar 2023</td> <th>  Prob (F-statistic):</th> <td>0.000167</td>\n",
       "</tr>\n",
       "<tr>\n",
       "  <th>Time:</th>                 <td>14:26:53</td>     <th>  Log-Likelihood:    </th> <td> -157.40</td>\n",
       "</tr>\n",
       "<tr>\n",
       "  <th>No. Observations:</th>      <td>    30</td>      <th>  AIC:               </th> <td>   318.8</td>\n",
       "</tr>\n",
       "<tr>\n",
       "  <th>Df Residuals:</th>          <td>    28</td>      <th>  BIC:               </th> <td>   321.6</td>\n",
       "</tr>\n",
       "<tr>\n",
       "  <th>Df Model:</th>              <td>     1</td>      <th>                     </th>     <td> </td>   \n",
       "</tr>\n",
       "<tr>\n",
       "  <th>Covariance Type:</th>      <td>nonrobust</td>    <th>                     </th>     <td> </td>   \n",
       "</tr>\n",
       "</table>\n",
       "<table class=\"simpletable\">\n",
       "<tr>\n",
       "      <td></td>         <th>coef</th>     <th>std err</th>      <th>t</th>      <th>P>|t|</th>  <th>[0.025</th>    <th>0.975]</th>  \n",
       "</tr>\n",
       "<tr>\n",
       "  <th>Intercept</th> <td>-8251.8236</td> <td> 1921.946</td> <td>   -4.293</td> <td> 0.000</td> <td>-1.22e+04</td> <td>-4314.896</td>\n",
       "</tr>\n",
       "<tr>\n",
       "  <th>year</th>      <td>    4.1609</td> <td>    0.959</td> <td>    4.341</td> <td> 0.000</td> <td>    2.198</td> <td>    6.124</td>\n",
       "</tr>\n",
       "</table>\n",
       "<table class=\"simpletable\">\n",
       "<tr>\n",
       "  <th>Omnibus:</th>       <td>32.185</td> <th>  Durbin-Watson:     </th> <td>   2.381</td>\n",
       "</tr>\n",
       "<tr>\n",
       "  <th>Prob(Omnibus):</th> <td> 0.000</td> <th>  Jarque-Bera (JB):  </th> <td>  72.620</td>\n",
       "</tr>\n",
       "<tr>\n",
       "  <th>Skew:</th>          <td> 2.377</td> <th>  Prob(JB):          </th> <td>1.70e-16</td>\n",
       "</tr>\n",
       "<tr>\n",
       "  <th>Kurtosis:</th>      <td> 8.958</td> <th>  Cond. No.          </th> <td>4.44e+05</td>\n",
       "</tr>\n",
       "</table><br/><br/>Notes:<br/>[1] Standard Errors assume that the covariance matrix of the errors is correctly specified.<br/>[2] The condition number is large, 4.44e+05. This might indicate that there are<br/>strong multicollinearity or other numerical problems."
      ],
      "text/plain": [
       "<class 'statsmodels.iolib.summary.Summary'>\n",
       "\"\"\"\n",
       "                            OLS Regression Results                            \n",
       "==============================================================================\n",
       "Dep. Variable:               earnings   R-squared:                       0.402\n",
       "Model:                            OLS   Adj. R-squared:                  0.381\n",
       "Method:                 Least Squares   F-statistic:                     18.84\n",
       "Date:                Wed, 29 Mar 2023   Prob (F-statistic):           0.000167\n",
       "Time:                        14:26:53   Log-Likelihood:                -157.40\n",
       "No. Observations:                  30   AIC:                             318.8\n",
       "Df Residuals:                      28   BIC:                             321.6\n",
       "Df Model:                           1                                         \n",
       "Covariance Type:            nonrobust                                         \n",
       "==============================================================================\n",
       "                 coef    std err          t      P>|t|      [0.025      0.975]\n",
       "------------------------------------------------------------------------------\n",
       "Intercept  -8251.8236   1921.946     -4.293      0.000   -1.22e+04   -4314.896\n",
       "year           4.1609      0.959      4.341      0.000       2.198       6.124\n",
       "==============================================================================\n",
       "Omnibus:                       32.185   Durbin-Watson:                   2.381\n",
       "Prob(Omnibus):                  0.000   Jarque-Bera (JB):               72.620\n",
       "Skew:                           2.377   Prob(JB):                     1.70e-16\n",
       "Kurtosis:                       8.958   Cond. No.                     4.44e+05\n",
       "==============================================================================\n",
       "\n",
       "Notes:\n",
       "[1] Standard Errors assume that the covariance matrix of the errors is correctly specified.\n",
       "[2] The condition number is large, 4.44e+05. This might indicate that there are\n",
       "strong multicollinearity or other numerical problems.\n",
       "\"\"\""
      ]
     },
     "execution_count": 12,
     "metadata": {},
     "output_type": "execute_result"
    }
   ],
   "source": [
    "# From the line graph above, we can see a general increasing trend with some outliers\n",
    "# We can perform a regressional analysis on earnings in years\n",
    "reg2_top1earnings = smf.ols('earnings~year',df_no1).fit() \n",
    "reg2_top1earnings.summary()"
   ]
  },
  {
   "cell_type": "code",
   "execution_count": null,
   "id": "f6f32cf8",
   "metadata": {},
   "outputs": [],
   "source": [
    "# Regression analysis:\n",
    "# The coefficient for the year variable is 4.1609, indicating that for each one-year increase in the year, \n",
    "# the earnings of the top-ranked athlete increase by an average of $4.16 million, holding all other variables constant.\n",
    "\n",
    "# R-squared is a measure of how closely the data in a regression line fit the data in the sample\n",
    "# In this case, 40.2% of the dependent variable (earnings) is explained by the independent variable (year)\n",
    "# the adjusted R-squared value of 0.381 suggests that there may be other factors affecting the variation in earnings beyond just the year variable.\n",
    "\n",
    "# p-value < 0.05, suggesting a significant relationship.\n",
    "# This means that there is a positive relationship between year and earnings, \n",
    "# indicating that the earning of highest-paid athletes tends to increase as time goes on\n",
    "# Thus, we should not reject the second hypothesis"
   ]
  },
  {
   "cell_type": "code",
   "execution_count": 13,
   "id": "ade41514",
   "metadata": {},
   "outputs": [
    {
     "name": "stderr",
     "output_type": "stream",
     "text": [
      "/var/folders/fc/6tf_xth56x574dr03jkmxzt80000gn/T/ipykernel_73903/3277967541.py:2: SettingWithCopyWarning: \n",
      "A value is trying to be set on a copy of a slice from a DataFrame.\n",
      "Try using .loc[row_indexer,col_indexer] = value instead\n",
      "\n",
      "See the caveats in the documentation: https://pandas.pydata.org/pandas-docs/stable/user_guide/indexing.html#returning-a-view-versus-a-copy\n"
     ]
    },
    {
     "data": {
      "image/png": "[encoded data removed]",
      "text/plain": [
       "<Figure size 640x480 with 1 Axes>"
      ]
     },
     "metadata": {},
     "output_type": "display_data"
    },
    {
     "data": {
      "text/plain": [
       "<ggplot: (8789248242360)>"
      ]
     },
     "execution_count": 13,
     "metadata": {},
     "output_type": "execute_result"
    }
   ],
   "source": [
    "# We can then apply the regression on predicted earning in a line on scatterplot\n",
    "df_no1['reg2_pred_earning']=reg2_top1earnings.predict() \n",
    "\n",
    "(ggplot(df_no1, aes(x='year', y='earnings'))+\n",
    "geom_point(color='steelblue')+\n",
    "geom_line(aes(x='year', y='reg2_pred_earning'), color='darkorange')+ theme_bw()\n",
    ")"
   ]
  },
  {
   "cell_type": "code",
   "execution_count": 25,
   "id": "01dcb475",
   "metadata": {},
   "outputs": [
    {
     "data": {
      "image/png": "[encoded data removed]",
      "text/plain": [
       "<Figure size 640x480 with 1 Axes>"
      ]
     },
     "metadata": {},
     "output_type": "display_data"
    },
    {
     "data": {
      "text/plain": [
       "<ggplot: (8789231887894)>"
      ]
     },
     "execution_count": 25,
     "metadata": {},
     "output_type": "execute_result"
    }
   ],
   "source": [
    "# The majority of the earning data fit well with the line\n",
    "# except for two outliers that we can identify from the box plot below\n",
    "# Although we have less outliers than the first regression,\n",
    "# the two are further from the rest of the data points\n",
    "(ggplot(df_no1, aes(x='year', y='earnings')) +\n",
    "        geom_boxplot()+theme_bw()\n",
    ")"
   ]
  },
  {
   "cell_type": "code",
   "execution_count": 15,
   "id": "d719b647",
   "metadata": {},
   "outputs": [
    {
     "name": "stdout",
     "output_type": "stream",
     "text": [
      "s.no                               242\n",
      "name                  Floyd Mayweather\n",
      "nationality                        USA\n",
      "current_rank                         1\n",
      "previous_year_rank                   1\n",
      "sport                           boxing\n",
      "year                              2015\n",
      "earnings                         300.0\n",
      "reg2_pred_earning            132.45118\n",
      "Name: 241, dtype: object\n",
      "s.no                               272\n",
      "name                  Floyd Mayweather\n",
      "nationality                        USA\n",
      "current_rank                         1\n",
      "previous_year_rank                >100\n",
      "sport                           boxing\n",
      "year                              2018\n",
      "earnings                         285.0\n",
      "reg2_pred_earning           144.933971\n",
      "Name: 271, dtype: object\n"
     ]
    },
    {
     "name": "stderr",
     "output_type": "stream",
     "text": [
      "/var/folders/fc/6tf_xth56x574dr03jkmxzt80000gn/T/ipykernel_73903/2306220266.py:2: SettingWithCopyWarning: \n",
      "A value is trying to be set on a copy of a slice from a DataFrame\n",
      "\n",
      "See the caveats in the documentation: https://pandas.pydata.org/pandas-docs/stable/user_guide/indexing.html#returning-a-view-versus-a-copy\n"
     ]
    }
   ],
   "source": [
    "#identifying the two outliers\n",
    "df_no1.sort_values(by='earnings', inplace=True, ascending=False)\n",
    "print(df_no1.iloc[0])\n",
    "print(df_no1.iloc[1])"
   ]
  },
  {
   "cell_type": "code",
   "execution_count": null,
   "id": "37f82e40",
   "metadata": {},
   "outputs": [],
   "source": [
    "# Comparing to the first regression/hypothesis:\n",
    "# The coefficient on year is higher in the second regression than in the first,\n",
    "# suggesting the average earnings of top 10 players increase less than the top-1 ranked player over time.\n",
    "\n",
    "# The R-squared is significantly higher in the first hypothesis,\n",
    "# indicating a stronger positive correlation between year and average earnings."
   ]
  },
  {
   "cell_type": "code",
   "execution_count": null,
   "id": "c29b7b20",
   "metadata": {},
   "outputs": [],
   "source": [
    "# After we verified the increasing trend of earnings over time\n",
    "# The third hypothesis is to test the growth rate of top 1 ranked players' earnings increases over time\n",
    "# continuously using df_no1 over time"
   ]
  },
  {
   "cell_type": "code",
   "execution_count": 16,
   "id": "b7bf27b9",
   "metadata": {},
   "outputs": [
    {
     "name": "stderr",
     "output_type": "stream",
     "text": [
      "/var/folders/fc/6tf_xth56x574dr03jkmxzt80000gn/T/ipykernel_73903/3584939266.py:1: SettingWithCopyWarning: \n",
      "A value is trying to be set on a copy of a slice from a DataFrame.\n",
      "Try using .loc[row_indexer,col_indexer] = value instead\n",
      "\n",
      "See the caveats in the documentation: https://pandas.pydata.org/pandas-docs/stable/user_guide/indexing.html#returning-a-view-versus-a-copy\n"
     ]
    },
    {
     "data": {
      "text/html": [
       "<div>\n",
       "<style scoped>\n",
       "    .dataframe tbody tr th:only-of-type {\n",
       "        vertical-align: middle;\n",
       "    }\n",
       "\n",
       "    .dataframe tbody tr th {\n",
       "        vertical-align: top;\n",
       "    }\n",
       "\n",
       "    .dataframe thead th {\n",
       "        text-align: right;\n",
       "    }\n",
       "</style>\n",
       "<table border=\"1\" class=\"dataframe\">\n",
       "  <thead>\n",
       "    <tr style=\"text-align: right;\">\n",
       "      <th></th>\n",
       "      <th>s.no</th>\n",
       "      <th>name</th>\n",
       "      <th>nationality</th>\n",
       "      <th>current_rank</th>\n",
       "      <th>previous_year_rank</th>\n",
       "      <th>sport</th>\n",
       "      <th>year</th>\n",
       "      <th>earnings</th>\n",
       "      <th>reg2_pred_earning</th>\n",
       "      <th>ln_earnings</th>\n",
       "    </tr>\n",
       "  </thead>\n",
       "  <tbody>\n",
       "    <tr>\n",
       "      <th>241</th>\n",
       "      <td>242</td>\n",
       "      <td>Floyd Mayweather</td>\n",
       "      <td>USA</td>\n",
       "      <td>1</td>\n",
       "      <td>1</td>\n",
       "      <td>boxing</td>\n",
       "      <td>2015</td>\n",
       "      <td>300.0</td>\n",
       "      <td>132.451180</td>\n",
       "      <td>5.703782</td>\n",
       "    </tr>\n",
       "    <tr>\n",
       "      <th>271</th>\n",
       "      <td>272</td>\n",
       "      <td>Floyd Mayweather</td>\n",
       "      <td>USA</td>\n",
       "      <td>1</td>\n",
       "      <td>&gt;100</td>\n",
       "      <td>boxing</td>\n",
       "      <td>2018</td>\n",
       "      <td>285.0</td>\n",
       "      <td>144.933971</td>\n",
       "      <td>5.652489</td>\n",
       "    </tr>\n",
       "    <tr>\n",
       "      <th>281</th>\n",
       "      <td>282</td>\n",
       "      <td>Lionel Messi</td>\n",
       "      <td>Argentina</td>\n",
       "      <td>1</td>\n",
       "      <td>2</td>\n",
       "      <td>soccer</td>\n",
       "      <td>2019</td>\n",
       "      <td>127.0</td>\n",
       "      <td>149.094901</td>\n",
       "      <td>4.844187</td>\n",
       "    </tr>\n",
       "    <tr>\n",
       "      <th>171</th>\n",
       "      <td>172</td>\n",
       "      <td>Tiger Woods</td>\n",
       "      <td>USA</td>\n",
       "      <td>1</td>\n",
       "      <td>1</td>\n",
       "      <td>golf</td>\n",
       "      <td>2008</td>\n",
       "      <td>115.0</td>\n",
       "      <td>103.324667</td>\n",
       "      <td>4.744932</td>\n",
       "    </tr>\n",
       "    <tr>\n",
       "      <th>181</th>\n",
       "      <td>182</td>\n",
       "      <td>Tiger Woods</td>\n",
       "      <td>USA</td>\n",
       "      <td>1</td>\n",
       "      <td>1</td>\n",
       "      <td>golf</td>\n",
       "      <td>2009</td>\n",
       "      <td>110.0</td>\n",
       "      <td>107.485598</td>\n",
       "      <td>4.700480</td>\n",
       "    </tr>\n",
       "  </tbody>\n",
       "</table>\n",
       "</div>"
      ],
      "text/plain": [
       "     s.no              name nationality  current_rank previous_year_rank  \\\n",
       "241   242  Floyd Mayweather         USA             1                  1   \n",
       "271   272  Floyd Mayweather         USA             1               >100   \n",
       "281   282      Lionel Messi   Argentina             1                  2   \n",
       "171   172       Tiger Woods         USA             1                  1   \n",
       "181   182       Tiger Woods         USA             1                  1   \n",
       "\n",
       "      sport  year  earnings  reg2_pred_earning  ln_earnings  \n",
       "241  boxing  2015     300.0         132.451180     5.703782  \n",
       "271  boxing  2018     285.0         144.933971     5.652489  \n",
       "281  soccer  2019     127.0         149.094901     4.844187  \n",
       "171    golf  2008     115.0         103.324667     4.744932  \n",
       "181    golf  2009     110.0         107.485598     4.700480  "
      ]
     },
     "execution_count": 16,
     "metadata": {},
     "output_type": "execute_result"
    }
   ],
   "source": [
    "df_no1['ln_earnings'] = np.log(df_no1['earnings'])\n",
    "df_no1.head()"
   ]
  },
  {
   "cell_type": "code",
   "execution_count": 17,
   "id": "c0d5ce41",
   "metadata": {},
   "outputs": [
    {
     "data": {
      "text/html": [
       "<table class=\"simpletable\">\n",
       "<caption>OLS Regression Results</caption>\n",
       "<tr>\n",
       "  <th>Dep. Variable:</th>       <td>ln_earnings</td>   <th>  R-squared:         </th> <td>   0.626</td>\n",
       "</tr>\n",
       "<tr>\n",
       "  <th>Model:</th>                   <td>OLS</td>       <th>  Adj. R-squared:    </th> <td>   0.612</td>\n",
       "</tr>\n",
       "<tr>\n",
       "  <th>Method:</th>             <td>Least Squares</td>  <th>  F-statistic:       </th> <td>   46.81</td>\n",
       "</tr>\n",
       "<tr>\n",
       "  <th>Date:</th>             <td>Wed, 29 Mar 2023</td> <th>  Prob (F-statistic):</th> <td>1.96e-07</td>\n",
       "</tr>\n",
       "<tr>\n",
       "  <th>Time:</th>                 <td>14:34:09</td>     <th>  Log-Likelihood:    </th> <td> -8.4789</td>\n",
       "</tr>\n",
       "<tr>\n",
       "  <th>No. Observations:</th>      <td>    30</td>      <th>  AIC:               </th> <td>   20.96</td>\n",
       "</tr>\n",
       "<tr>\n",
       "  <th>Df Residuals:</th>          <td>    28</td>      <th>  BIC:               </th> <td>   23.76</td>\n",
       "</tr>\n",
       "<tr>\n",
       "  <th>Df Model:</th>              <td>     1</td>      <th>                     </th>     <td> </td>   \n",
       "</tr>\n",
       "<tr>\n",
       "  <th>Covariance Type:</th>      <td>nonrobust</td>    <th>                     </th>     <td> </td>   \n",
       "</tr>\n",
       "</table>\n",
       "<table class=\"simpletable\">\n",
       "<tr>\n",
       "      <td></td>         <th>coef</th>     <th>std err</th>      <th>t</th>      <th>P>|t|</th>  <th>[0.025</th>    <th>0.975]</th>  \n",
       "</tr>\n",
       "<tr>\n",
       "  <th>Intercept</th> <td>  -87.4778</td> <td>   13.423</td> <td>   -6.517</td> <td> 0.000</td> <td> -114.974</td> <td>  -59.981</td>\n",
       "</tr>\n",
       "<tr>\n",
       "  <th>year</th>      <td>    0.0458</td> <td>    0.007</td> <td>    6.842</td> <td> 0.000</td> <td>    0.032</td> <td>    0.060</td>\n",
       "</tr>\n",
       "</table>\n",
       "<table class=\"simpletable\">\n",
       "<tr>\n",
       "  <th>Omnibus:</th>       <td> 4.794</td> <th>  Durbin-Watson:     </th> <td>   1.462</td>\n",
       "</tr>\n",
       "<tr>\n",
       "  <th>Prob(Omnibus):</th> <td> 0.091</td> <th>  Jarque-Bera (JB):  </th> <td>   3.441</td>\n",
       "</tr>\n",
       "<tr>\n",
       "  <th>Skew:</th>          <td> 0.809</td> <th>  Prob(JB):          </th> <td>   0.179</td>\n",
       "</tr>\n",
       "<tr>\n",
       "  <th>Kurtosis:</th>      <td> 3.365</td> <th>  Cond. No.          </th> <td>4.44e+05</td>\n",
       "</tr>\n",
       "</table><br/><br/>Notes:<br/>[1] Standard Errors assume that the covariance matrix of the errors is correctly specified.<br/>[2] The condition number is large, 4.44e+05. This might indicate that there are<br/>strong multicollinearity or other numerical problems."
      ],
      "text/plain": [
       "<class 'statsmodels.iolib.summary.Summary'>\n",
       "\"\"\"\n",
       "                            OLS Regression Results                            \n",
       "==============================================================================\n",
       "Dep. Variable:            ln_earnings   R-squared:                       0.626\n",
       "Model:                            OLS   Adj. R-squared:                  0.612\n",
       "Method:                 Least Squares   F-statistic:                     46.81\n",
       "Date:                Wed, 29 Mar 2023   Prob (F-statistic):           1.96e-07\n",
       "Time:                        14:34:09   Log-Likelihood:                -8.4789\n",
       "No. Observations:                  30   AIC:                             20.96\n",
       "Df Residuals:                      28   BIC:                             23.76\n",
       "Df Model:                           1                                         \n",
       "Covariance Type:            nonrobust                                         \n",
       "==============================================================================\n",
       "                 coef    std err          t      P>|t|      [0.025      0.975]\n",
       "------------------------------------------------------------------------------\n",
       "Intercept    -87.4778     13.423     -6.517      0.000    -114.974     -59.981\n",
       "year           0.0458      0.007      6.842      0.000       0.032       0.060\n",
       "==============================================================================\n",
       "Omnibus:                        4.794   Durbin-Watson:                   1.462\n",
       "Prob(Omnibus):                  0.091   Jarque-Bera (JB):                3.441\n",
       "Skew:                           0.809   Prob(JB):                        0.179\n",
       "Kurtosis:                       3.365   Cond. No.                     4.44e+05\n",
       "==============================================================================\n",
       "\n",
       "Notes:\n",
       "[1] Standard Errors assume that the covariance matrix of the errors is correctly specified.\n",
       "[2] The condition number is large, 4.44e+05. This might indicate that there are\n",
       "strong multicollinearity or other numerical problems.\n",
       "\"\"\""
      ]
     },
     "execution_count": 17,
     "metadata": {},
     "output_type": "execute_result"
    }
   ],
   "source": [
    "reg3_lnearnings = smf.ols('ln_earnings ~ year', data=df_no1).fit()\n",
    "reg3_lnearnings.summary()"
   ]
  },
  {
   "cell_type": "code",
   "execution_count": null,
   "id": "7d1695ec",
   "metadata": {},
   "outputs": [],
   "source": [
    "# Regression analysis\n",
    "# The coefficient for the year variable is 0.0458, indicating that for each one-year increase in the year, \n",
    "# the growth rate of earning of the top-ranked athlete increase by an average of $0.0458 million, holding all other variables constant.\n",
    "\n",
    "# R-squared is a measure of how closely the data in a regression line fit the data in the sample\n",
    "# In this case, 62.6% of the dependent variable (earnings) is explained by the independent variable (year)\n",
    "\n",
    "# p-value < 0.05, suggesting a significant relationship.\n",
    "# This indicates that there is strong evidence that year has a positive effect on ln_earnings.\n",
    "# Thus, we should not reject this hypothesis"
   ]
  },
  {
   "cell_type": "code",
   "execution_count": 19,
   "id": "b4a77f5b",
   "metadata": {},
   "outputs": [
    {
     "name": "stderr",
     "output_type": "stream",
     "text": [
      "/var/folders/fc/6tf_xth56x574dr03jkmxzt80000gn/T/ipykernel_73903/1875572439.py:2: SettingWithCopyWarning: \n",
      "A value is trying to be set on a copy of a slice from a DataFrame.\n",
      "Try using .loc[row_indexer,col_indexer] = value instead\n",
      "\n",
      "See the caveats in the documentation: https://pandas.pydata.org/pandas-docs/stable/user_guide/indexing.html#returning-a-view-versus-a-copy\n"
     ]
    },
    {
     "data": {
      "image/png": "[encoded data removed]",
      "text/plain": [
       "<Figure size 640x480 with 1 Axes>"
      ]
     },
     "metadata": {},
     "output_type": "display_data"
    },
    {
     "data": {
      "text/plain": [
       "<ggplot: (8789231968720)>"
      ]
     },
     "execution_count": 19,
     "metadata": {},
     "output_type": "execute_result"
    }
   ],
   "source": [
    "# We can then apply the regression on predicted ln_earning in a line on scatterplot\n",
    "df_no1['reg3_pred_lnearning']=reg3_lnearnings.predict() \n",
    "\n",
    "(ggplot(df_no1, aes(x='year', y='ln_earnings'))+\n",
    "geom_point(color='steelblue')+\n",
    "geom_line(aes(x='year', y='reg3_pred_lnearning'), color='darkorange')+ theme_bw()\n",
    ")"
   ]
  },
  {
   "cell_type": "code",
   "execution_count": 20,
   "id": "c2bf5457",
   "metadata": {},
   "outputs": [
    {
     "data": {
      "image/png": "[encoded data removed]",
      "text/plain": [
       "<Figure size 640x480 with 1 Axes>"
      ]
     },
     "metadata": {},
     "output_type": "display_data"
    },
    {
     "data": {
      "text/plain": [
       "<ggplot: (8789231966660)>"
      ]
     },
     "execution_count": 20,
     "metadata": {},
     "output_type": "execute_result"
    }
   ],
   "source": [
    "# The majority of the earning data fit well with the line\n",
    "# We can use the box plot below to check if there is any outliers\n",
    "(ggplot(df_no1, aes(x='year', y='ln_earnings')) +\n",
    "        geom_boxplot()+theme_bw()\n",
    ")"
   ]
  },
  {
   "cell_type": "code",
   "execution_count": 27,
   "id": "55beb210",
   "metadata": {},
   "outputs": [
    {
     "name": "stdout",
     "output_type": "stream",
     "text": [
      "s.no                                242\n",
      "name                   Floyd Mayweather\n",
      "nationality                         USA\n",
      "current_rank                          1\n",
      "previous_year_rank                    1\n",
      "sport                            boxing\n",
      "year                               2015\n",
      "earnings                          300.0\n",
      "reg2_pred_earning             132.45118\n",
      "ln_earnings                    5.703782\n",
      "reg3_pred_lnearning            4.817953\n",
      "Name: 241, dtype: object\n",
      "s.no                                272\n",
      "name                   Floyd Mayweather\n",
      "nationality                         USA\n",
      "current_rank                          1\n",
      "previous_year_rank                 >100\n",
      "sport                            boxing\n",
      "year                               2018\n",
      "earnings                          285.0\n",
      "reg2_pred_earning            144.933971\n",
      "ln_earnings                    5.652489\n",
      "reg3_pred_lnearning            4.955366\n",
      "Name: 271, dtype: object\n",
      "s.no                            1\n",
      "name                   Mike Tyson\n",
      "nationality                   USA\n",
      "current_rank                    1\n",
      "previous_year_rank            NaN\n",
      "sport                      boxing\n",
      "year                         1990\n",
      "earnings                     28.6\n",
      "reg2_pred_earning        28.42792\n",
      "ln_earnings              3.353407\n",
      "reg3_pred_lnearning      3.672845\n",
      "Name: 0, dtype: object\n"
     ]
    },
    {
     "name": "stderr",
     "output_type": "stream",
     "text": [
      "/var/folders/fc/6tf_xth56x574dr03jkmxzt80000gn/T/ipykernel_73903/2206313326.py:3: SettingWithCopyWarning: \n",
      "A value is trying to be set on a copy of a slice from a DataFrame\n",
      "\n",
      "See the caveats in the documentation: https://pandas.pydata.org/pandas-docs/stable/user_guide/indexing.html#returning-a-view-versus-a-copy\n",
      "/var/folders/fc/6tf_xth56x574dr03jkmxzt80000gn/T/ipykernel_73903/2206313326.py:7: SettingWithCopyWarning: \n",
      "A value is trying to be set on a copy of a slice from a DataFrame\n",
      "\n",
      "See the caveats in the documentation: https://pandas.pydata.org/pandas-docs/stable/user_guide/indexing.html#returning-a-view-versus-a-copy\n"
     ]
    }
   ],
   "source": [
    "# We can see that there are three outliers.\n",
    "# We can identify them by sorting the dataset both ascending and descending\n",
    "df_no1.sort_values(by='ln_earnings', inplace=True, ascending=False)\n",
    "print(df_no1.iloc[0])\n",
    "print(df_no1.iloc[1])\n",
    "\n",
    "df_no1.sort_values(by='ln_earnings', inplace=True, ascending=True)\n",
    "print(df_no1.iloc[0])"
   ]
  },
  {
   "cell_type": "code",
   "execution_count": null,
   "id": "6b6cb992",
   "metadata": {},
   "outputs": [],
   "source": [
    "# Overall, for the section on earnings over time, the three regressions tested are all valid\n",
    "# All models show an increase of earnings in relation to time. \n",
    "# Although we need to consider other variables as well, as suggested in the R^2 of especially the second regression,\n",
    "# time is definitely an important variable when considering the overall trend of earning"
   ]
  }
 ],
 "metadata": {
  "kernelspec": {
   "display_name": "Python 3 (ipykernel)",
   "language": "python",
   "name": "python3"
  },
  "language_info": {
   "codemirror_mode": {
    "name": "ipython",
    "version": 3
   },
   "file_extension": ".py",
   "mimetype": "text/x-python",
   "name": "python",
   "nbconvert_exporter": "python",
   "pygments_lexer": "ipython3",
   "version": "3.9.7"
  }
 },
 "nbformat": 4,
 "nbformat_minor": 5
}
